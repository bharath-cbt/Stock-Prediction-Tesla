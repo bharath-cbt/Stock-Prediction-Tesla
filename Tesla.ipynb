{
  "nbformat": 4,
  "nbformat_minor": 0,
  "metadata": {
    "colab": {
      "provenance": []
    },
    "kernelspec": {
      "name": "python3",
      "display_name": "Python 3"
    },
    "language_info": {
      "name": "python"
    }
  },
  "cells": [
    {
      "cell_type": "markdown",
      "source": [
        "**Importing Libraries**"
      ],
      "metadata": {
        "id": "KK7K2kVWUzBc"
      }
    },
    {
      "cell_type": "code",
      "execution_count": null,
      "metadata": {
        "id": "cd0V5pC7UvDE"
      },
      "outputs": [],
      "source": [
        "import numpy as np\n",
        "import pandas as pd\n",
        "import matplotlib.pyplot as plt"
      ]
    },
    {
      "cell_type": "markdown",
      "source": [
        "**Loading Our Dataset**"
      ],
      "metadata": {
        "id": "xhbrBz9mU3xp"
      }
    },
    {
      "cell_type": "code",
      "source": [
        "df = pd.read_csv('/content/TSLA[1].csv')"
      ],
      "metadata": {
        "id": "V_ray7MnU7JS"
      },
      "execution_count": null,
      "outputs": []
    },
    {
      "cell_type": "markdown",
      "source": [
        "**Feature Extraction**"
      ],
      "metadata": {
        "id": "3QhKVSKkVKNU"
      }
    },
    {
      "cell_type": "markdown",
      "source": [
        "The number of the trading days and the columns:"
      ],
      "metadata": {
        "id": "VooKRGQTVMMh"
      }
    },
    {
      "cell_type": "code",
      "source": [
        "df.shape"
      ],
      "metadata": {
        "colab": {
          "base_uri": "https://localhost:8080/"
        },
        "id": "Xh4x-7Z4U7Nz",
        "outputId": "db3b3825-039e-4853-feab-1507a204d151"
      },
      "execution_count": null,
      "outputs": [
        {
          "output_type": "execute_result",
          "data": {
            "text/plain": [
              "(2416, 7)"
            ]
          },
          "metadata": {},
          "execution_count": 3
        }
      ]
    },
    {
      "cell_type": "code",
      "source": [
        "df = df['Open'].values\n",
        "df = df.reshape(-1, 1)"
      ],
      "metadata": {
        "id": "5TXyT_rWVRF6"
      },
      "execution_count": null,
      "outputs": []
    },
    {
      "cell_type": "markdown",
      "source": [
        "After extracting one column:"
      ],
      "metadata": {
        "id": "eLN_CN2AVUS2"
      }
    },
    {
      "cell_type": "code",
      "source": [
        "df.shape"
      ],
      "metadata": {
        "colab": {
          "base_uri": "https://localhost:8080/"
        },
        "id": "cdDKBg6_U7QU",
        "outputId": "65edb78a-511d-4b86-ffa7-21f0e76e0948"
      },
      "execution_count": null,
      "outputs": [
        {
          "output_type": "execute_result",
          "data": {
            "text/plain": [
              "(2416, 1)"
            ]
          },
          "metadata": {},
          "execution_count": 5
        }
      ]
    },
    {
      "cell_type": "code",
      "source": [
        "dataset_train = np.array(df[:int(df.shape[0]*0.8)])\n",
        "dataset_test = np.array(df[int(df.shape[0]*0.8):])\n",
        "print(dataset_train.shape)\n",
        "print(dataset_test.shape)"
      ],
      "metadata": {
        "colab": {
          "base_uri": "https://localhost:8080/"
        },
        "id": "8mDPErR3VWNC",
        "outputId": "df9bd669-708f-4a17-c7c3-bd34378dd08a"
      },
      "execution_count": null,
      "outputs": [
        {
          "output_type": "stream",
          "name": "stdout",
          "text": [
            "(1932, 1)\n",
            "(484, 1)\n"
          ]
        }
      ]
    },
    {
      "cell_type": "markdown",
      "source": [
        "Importing our model:"
      ],
      "metadata": {
        "id": "_NhXFfygVbaW"
      }
    },
    {
      "cell_type": "code",
      "source": [
        "from sklearn.preprocessing import MinMaxScaler\n",
        "from keras.models import Sequential, load_model\n",
        "from keras.layers import LSTM, Dense, Dropout"
      ],
      "metadata": {
        "id": "EwTuNk-yVWQf"
      },
      "execution_count": null,
      "outputs": []
    },
    {
      "cell_type": "markdown",
      "source": [
        "Scaling data:"
      ],
      "metadata": {
        "id": "jAlkVYWUVjBc"
      }
    },
    {
      "cell_type": "code",
      "source": [
        "scaler = MinMaxScaler(feature_range=(0,1))\n",
        "dataset_train = scaler.fit_transform(dataset_train)\n",
        "dataset_train[:5]"
      ],
      "metadata": {
        "colab": {
          "base_uri": "https://localhost:8080/"
        },
        "id": "HsUzoPG4VfVJ",
        "outputId": "870e93a3-d254-455f-f9a9-70002fa9114d"
      },
      "execution_count": null,
      "outputs": [
        {
          "output_type": "execute_result",
          "data": {
            "text/plain": [
              "array([[0.00771826],\n",
              "       [0.02604237],\n",
              "       [0.02391041],\n",
              "       [0.01851302],\n",
              "       [0.01041695]])"
            ]
          },
          "metadata": {},
          "execution_count": 8
        }
      ]
    },
    {
      "cell_type": "code",
      "source": [
        "dataset_test = scaler.transform(dataset_test)\n",
        "dataset_test[:5]"
      ],
      "metadata": {
        "colab": {
          "base_uri": "https://localhost:8080/"
        },
        "id": "G24ojTNOVfaM",
        "outputId": "b8abb23b-a84b-4a7e-a1ea-89adf7f5ce41"
      },
      "execution_count": null,
      "outputs": [
        {
          "output_type": "execute_result",
          "data": {
            "text/plain": [
              "array([[0.83886118],\n",
              "       [0.85346111],\n",
              "       [0.85713129],\n",
              "       [0.83470517],\n",
              "       [0.85472941]])"
            ]
          },
          "metadata": {},
          "execution_count": 9
        }
      ]
    },
    {
      "cell_type": "code",
      "source": [
        "def create_dataset(df):\n",
        "    x = []\n",
        "    y = []\n",
        "    for i in range(50, df.shape[0]):\n",
        "        x.append(df[i-50:i, 0])\n",
        "        y.append(df[i, 0])\n",
        "    x = np.array(x)\n",
        "    y = np.array(y)\n",
        "    return x,y"
      ],
      "metadata": {
        "id": "0G7bfaI1Vfc7"
      },
      "execution_count": null,
      "outputs": []
    },
    {
      "cell_type": "markdown",
      "source": [
        "Creating training and testing datasets:"
      ],
      "metadata": {
        "id": "KhorqPfxVrvk"
      }
    },
    {
      "cell_type": "code",
      "source": [
        "x_train, y_train = create_dataset(dataset_train)\n",
        "x_test, y_test = create_dataset(dataset_test)"
      ],
      "metadata": {
        "id": "JTaY70HhVff-"
      },
      "execution_count": null,
      "outputs": []
    },
    {
      "cell_type": "markdown",
      "source": [
        "Creating our LSTM model:"
      ],
      "metadata": {
        "id": "uYT6bQ-KVwfl"
      }
    },
    {
      "cell_type": "code",
      "source": [
        "model = Sequential()\n",
        "model.add(LSTM(units=96, return_sequences=True, input_shape=(x_train.shape[1], 1)))\n",
        "model.add(Dropout(0.2))\n",
        "model.add(LSTM(units=96, return_sequences=True))\n",
        "model.add(Dropout(0.2))\n",
        "model.add(LSTM(units=96, return_sequences=True))\n",
        "model.add(Dropout(0.2))\n",
        "model.add(LSTM(units=96))\n",
        "model.add(Dropout(0.2))\n",
        "model.add(Dense(units=1))"
      ],
      "metadata": {
        "id": "K6tENzbSVugL"
      },
      "execution_count": null,
      "outputs": []
    },
    {
      "cell_type": "markdown",
      "source": [
        "Reshape features for the LSTM layer:"
      ],
      "metadata": {
        "id": "RvfgZxbzV2xS"
      }
    },
    {
      "cell_type": "code",
      "source": [
        "x_train = np.reshape(x_train, (x_train.shape[0], x_train.shape[1], 1))\n",
        "x_test = np.reshape(x_test, (x_test.shape[0], x_test.shape[1], 1))"
      ],
      "metadata": {
        "id": "SBG1XVp_Vuj9"
      },
      "execution_count": null,
      "outputs": []
    },
    {
      "cell_type": "code",
      "source": [
        "model.compile(loss='mean_squared_error', optimizer='adam')"
      ],
      "metadata": {
        "id": "ssELTfVcV5oj"
      },
      "execution_count": null,
      "outputs": []
    },
    {
      "cell_type": "markdown",
      "source": [
        "Start the training:"
      ],
      "metadata": {
        "id": "0ag1zRKTV-L6"
      }
    },
    {
      "cell_type": "code",
      "source": [
        "model.fit(x_train, y_train, epochs=50, batch_size=32)\n",
        "model.save('stock_prediction.h5')"
      ],
      "metadata": {
        "colab": {
          "base_uri": "https://localhost:8080/"
        },
        "id": "lu54DRKjV5wU",
        "outputId": "27504344-9389-415c-ca92-a25be35b1300"
      },
      "execution_count": null,
      "outputs": [
        {
          "output_type": "stream",
          "name": "stdout",
          "text": [
            "Epoch 1/50\n",
            "59/59 [==============================] - 13s 108ms/step - loss: 0.0191\n",
            "Epoch 2/50\n",
            "59/59 [==============================] - 6s 100ms/step - loss: 0.0036\n",
            "Epoch 3/50\n",
            "59/59 [==============================] - 6s 107ms/step - loss: 0.0031\n",
            "Epoch 4/50\n",
            "59/59 [==============================] - 6s 99ms/step - loss: 0.0030\n",
            "Epoch 5/50\n",
            "59/59 [==============================] - 6s 102ms/step - loss: 0.0029\n",
            "Epoch 6/50\n",
            "59/59 [==============================] - 10s 169ms/step - loss: 0.0028\n",
            "Epoch 7/50\n",
            "59/59 [==============================] - 6s 105ms/step - loss: 0.0028\n",
            "Epoch 8/50\n",
            "59/59 [==============================] - 6s 102ms/step - loss: 0.0025\n",
            "Epoch 9/50\n",
            "59/59 [==============================] - 5s 93ms/step - loss: 0.0028\n",
            "Epoch 10/50\n",
            "59/59 [==============================] - 6s 102ms/step - loss: 0.0033\n",
            "Epoch 11/50\n",
            "59/59 [==============================] - 5s 92ms/step - loss: 0.0027\n",
            "Epoch 12/50\n",
            "59/59 [==============================] - 6s 103ms/step - loss: 0.0022\n",
            "Epoch 13/50\n",
            "59/59 [==============================] - 6s 93ms/step - loss: 0.0024\n",
            "Epoch 14/50\n",
            "59/59 [==============================] - 6s 103ms/step - loss: 0.0023\n",
            "Epoch 15/50\n",
            "59/59 [==============================] - 6s 93ms/step - loss: 0.0020\n",
            "Epoch 16/50\n",
            "59/59 [==============================] - 6s 103ms/step - loss: 0.0019\n",
            "Epoch 17/50\n",
            "59/59 [==============================] - 6s 94ms/step - loss: 0.0020\n",
            "Epoch 18/50\n",
            "59/59 [==============================] - 6s 104ms/step - loss: 0.0017\n",
            "Epoch 19/50\n",
            "59/59 [==============================] - 5s 92ms/step - loss: 0.0020\n",
            "Epoch 20/50\n",
            "59/59 [==============================] - 6s 101ms/step - loss: 0.0019\n",
            "Epoch 21/50\n",
            "59/59 [==============================] - 6s 93ms/step - loss: 0.0017\n",
            "Epoch 22/50\n",
            "59/59 [==============================] - 6s 100ms/step - loss: 0.0017\n",
            "Epoch 23/50\n",
            "59/59 [==============================] - 6s 99ms/step - loss: 0.0016\n",
            "Epoch 24/50\n",
            "59/59 [==============================] - 6s 108ms/step - loss: 0.0015\n",
            "Epoch 25/50\n",
            "59/59 [==============================] - 6s 99ms/step - loss: 0.0015\n",
            "Epoch 26/50\n",
            "59/59 [==============================] - 6s 100ms/step - loss: 0.0015\n",
            "Epoch 27/50\n",
            "59/59 [==============================] - 6s 93ms/step - loss: 0.0015\n",
            "Epoch 28/50\n",
            "59/59 [==============================] - 6s 98ms/step - loss: 0.0018\n",
            "Epoch 29/50\n",
            "59/59 [==============================] - 6s 95ms/step - loss: 0.0016\n",
            "Epoch 30/50\n",
            "59/59 [==============================] - 6s 96ms/step - loss: 0.0014\n",
            "Epoch 31/50\n",
            "59/59 [==============================] - 6s 98ms/step - loss: 0.0016\n",
            "Epoch 32/50\n",
            "59/59 [==============================] - 6s 96ms/step - loss: 0.0014\n",
            "Epoch 33/50\n",
            "59/59 [==============================] - 6s 102ms/step - loss: 0.0013\n",
            "Epoch 34/50\n",
            "59/59 [==============================] - 6s 94ms/step - loss: 0.0017\n",
            "Epoch 35/50\n",
            "59/59 [==============================] - 6s 102ms/step - loss: 0.0013\n",
            "Epoch 36/50\n",
            "59/59 [==============================] - 5s 93ms/step - loss: 0.0014\n",
            "Epoch 37/50\n",
            "59/59 [==============================] - 6s 103ms/step - loss: 0.0012\n",
            "Epoch 38/50\n",
            "59/59 [==============================] - 6s 93ms/step - loss: 0.0012\n",
            "Epoch 39/50\n",
            "59/59 [==============================] - 6s 103ms/step - loss: 0.0012\n",
            "Epoch 40/50\n",
            "59/59 [==============================] - 5s 93ms/step - loss: 0.0013\n",
            "Epoch 41/50\n",
            "59/59 [==============================] - 6s 103ms/step - loss: 0.0013\n",
            "Epoch 42/50\n",
            "59/59 [==============================] - 5s 93ms/step - loss: 0.0012\n",
            "Epoch 43/50\n",
            "59/59 [==============================] - 6s 103ms/step - loss: 0.0014\n",
            "Epoch 44/50\n",
            "59/59 [==============================] - 5s 92ms/step - loss: 0.0012\n",
            "Epoch 45/50\n",
            "59/59 [==============================] - 6s 102ms/step - loss: 0.0012\n",
            "Epoch 46/50\n",
            "59/59 [==============================] - 5s 93ms/step - loss: 0.0011\n",
            "Epoch 47/50\n",
            "59/59 [==============================] - 6s 102ms/step - loss: 0.0014\n",
            "Epoch 48/50\n",
            "59/59 [==============================] - 5s 93ms/step - loss: 0.0012\n",
            "Epoch 49/50\n",
            "59/59 [==============================] - 6s 102ms/step - loss: 0.0012\n",
            "Epoch 50/50\n",
            "59/59 [==============================] - 5s 93ms/step - loss: 0.0012\n"
          ]
        },
        {
          "output_type": "stream",
          "name": "stderr",
          "text": [
            "/usr/local/lib/python3.10/dist-packages/keras/src/engine/training.py:3000: UserWarning: You are saving your model as an HDF5 file via `model.save()`. This file format is considered legacy. We recommend using instead the native Keras format, e.g. `model.save('my_model.keras')`.\n",
            "  saving_api.save_model(\n"
          ]
        }
      ]
    },
    {
      "cell_type": "code",
      "source": [
        "model = load_model('stock_prediction.h5')"
      ],
      "metadata": {
        "id": "_BwyEaHUWDbo"
      },
      "execution_count": null,
      "outputs": []
    },
    {
      "cell_type": "markdown",
      "source": [
        "**Results visualization**"
      ],
      "metadata": {
        "id": "2ZnSdQ6uWJBn"
      }
    },
    {
      "cell_type": "code",
      "source": [
        "predictions = model.predict(x_test)\n",
        "predictions = scaler.inverse_transform(predictions)\n",
        "y_test_scaled = scaler.inverse_transform(y_test.reshape(-1, 1))\n",
        "\n",
        "fig, ax = plt.subplots(figsize=(16,8))\n",
        "ax.set_facecolor('#000041')\n",
        "ax.plot(y_test_scaled, color='red', label='Original price')\n",
        "plt.plot(predictions, color='cyan', label='Predicted price')\n",
        "plt.legend()"
      ],
      "metadata": {
        "colab": {
          "base_uri": "https://localhost:8080/",
          "height": 711
        },
        "id": "a63zSq6-WDeI",
        "outputId": "63a5039b-b114-4d86-ef4e-6b03c1c6ade8"
      },
      "execution_count": null,
      "outputs": [
        {
          "output_type": "stream",
          "name": "stdout",
          "text": [
            "14/14 [==============================] - 1s 34ms/step\n"
          ]
        },
        {
          "output_type": "execute_result",
          "data": {
            "text/plain": [
              "<matplotlib.legend.Legend at 0x7801a5406d10>"
            ]
          },
          "metadata": {},
          "execution_count": 17
        },
        {
          "output_type": "display_data",
          "data": {
            "text/plain": [
              "<Figure size 1600x800 with 1 Axes>"
            ],
            "image/png": "[encoded data removed]"
          },
          "metadata": {}
        }
      ]
    }
  ]
}